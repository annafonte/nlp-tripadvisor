{
 "cells": [
  {
   "cell_type": "markdown",
   "metadata": {},
   "source": [
    "### Importing libraries "
   ]
  },
  {
   "cell_type": "code",
   "execution_count": 3,
   "metadata": {},
   "outputs": [],
   "source": [
    "import pandas as pd\n",
    "import numpy as np\n",
    "from selenium import webdriver\n",
    "from selenium.webdriver.support.ui import WebDriverWait       \n",
    "import sys\n",
    "import csv\n",
    "import time"
   ]
  },
  {
   "cell_type": "markdown",
   "metadata": {},
   "source": [
    "#### Driver to scrape TripAdvisor"
   ]
  },
  {
   "cell_type": "code",
   "execution_count": null,
   "metadata": {},
   "outputs": [],
   "source": [
    "# default path to file to store data\n",
    "path_to_file = \"/Users/annafonte/Documents/Ironhack/Final_project/reviews_test.csv\"\n",
    "path = \"/Users/annafonte/Documents/Ironhack/Final_project/chromedriver\"\n",
    "\n",
    "# number of scraped pages (change it later to scrape more)\n",
    "num_page = 5000\n",
    "\n",
    "# default tripadvisor website of hotel or attraction\n",
    "url = \"https://www.tripadvisor.com/Attraction_Review-g187497-d190166-Reviews-Basilica_of_the_Sagrada_Familia-Barcelona_Catalonia.html\"\n",
    "\n",
    "# if you pass the inputs in the command line\n",
    "if (len(sys.argv) == 4):\n",
    "    path_to_file = sys.argv[1]\n",
    "    num_page = int(sys.argv[2])\n",
    "    url = sys.argv[3]\n",
    "\n",
    "# import the webdriver\n",
    "driver = webdriver.Chrome(path)\n",
    "driver.get(url)\n",
    "\n",
    "# open the file to save the review\n",
    "csvFile = open(path_to_file, 'a')\n",
    "csvWriter = csv.writer(csvFile)\n",
    "\n",
    "# iterating through the different pages\n",
    "for i in range(0, num_page):\n",
    "    try: \n",
    "        # expand the review \n",
    "        time.sleep(3)\n",
    "        expand = driver.find_element_by_xpath(\".//div[contains(@data-test-target, 'expand-review')]\")\n",
    "        driver.execute_script(\"arguments[0].click();\", expand)\n",
    "        # Creating variable with the container of the reviews\n",
    "        container = driver.find_elements_by_xpath(\"//div[@data-reviewid]\")\n",
    "        countries = driver.find_elements_by_xpath(\".//span[@class='default _3J15flPT small']\")\n",
    "        \n",
    "    except:\n",
    "        pass\n",
    "    \n",
    "    # Iterating through the review container to get rating, title, review and date + Write info in csv\n",
    "    for j in range(len(container)):\n",
    "        try:\n",
    "            rating = container[j].find_element_by_xpath(\".//span[contains(@class, 'ui_bubble_rating bubble_')]\").get_attribute(\"class\").split(\"_\")[3]\n",
    "            title = container[j].find_element_by_xpath(\".//div[contains(@data-test-target, 'review-title')]\").text\n",
    "            review = container[j].find_element_by_xpath(\".//q[@class='IRsGHoPm']\").text.replace(\"\\n\", \"  \")\n",
    "            date = container[j].find_element_by_xpath(\".//span[@class='_34Xs-BQm']\").text\n",
    "            country = \" \".join(countries[j].text.split(\" \"))\n",
    "        except:\n",
    "            pass \n",
    "            \n",
    "            csvWriter.writerow([date, country, rating, title, review]) \n",
    "    \n",
    "    try:    \n",
    "    # changing to next page \n",
    "        time.sleep(6)\n",
    "        button = driver.find_element_by_xpath('.//a[@class=\"ui_button nav next primary \"]')\n",
    "        driver.execute_script(\"arguments[0].click();\", button)\n",
    "    except:\n",
    "        pass\n",
    "\n",
    "     \n",
    "driver.quit()"
   ]
  },
  {
   "cell_type": "code",
   "execution_count": null,
   "metadata": {},
   "outputs": [],
   "source": []
  }
 ],
 "metadata": {
  "kernelspec": {
   "display_name": "Python 3",
   "language": "python",
   "name": "python3"
  },
  "language_info": {
   "codemirror_mode": {
    "name": "ipython",
    "version": 3
   },
   "file_extension": ".py",
   "mimetype": "text/x-python",
   "name": "python",
   "nbconvert_exporter": "python",
   "pygments_lexer": "ipython3",
   "version": "3.8.3"
  },
  "toc": {
   "base_numbering": 1,
   "nav_menu": {},
   "number_sections": true,
   "sideBar": true,
   "skip_h1_title": false,
   "title_cell": "Table of Contents",
   "title_sidebar": "Contents",
   "toc_cell": false,
   "toc_position": {},
   "toc_section_display": true,
   "toc_window_display": false
  }
 },
 "nbformat": 4,
 "nbformat_minor": 4
}
